{
 "cells": [
  {
   "cell_type": "code",
   "execution_count": null,
   "id": "1660a206-95af-4227-864e-7244750990d2",
   "metadata": {},
   "outputs": [],
   "source": [
    "import pathlib\n",
    "\n",
    "model_data_path = pathlib.Path(\"./model_data/\").resolve()\n",
    "db_path = pathlib.Path(\"./sample_data/staffing.db\").resolve()"
   ]
  },
  {
   "cell_type": "code",
   "execution_count": null,
   "id": "d9f348a3-4593-46c7-82d7-3cca47cbd7bb",
   "metadata": {},
   "outputs": [],
   "source": [
    "import pandas as pd\n",
    "from sqlalchemy import create_engine, text\n",
    "\n",
    "engine = create_engine(f\"sqlite:///{db_path}\")"
   ]
  },
  {
   "cell_type": "code",
   "execution_count": null,
   "id": "46361bb5-96cc-4c34-bac4-e9f4737286c4",
   "metadata": {},
   "outputs": [],
   "source": [
    "query_assignments = \"\"\"\n",
    "SELECT\n",
    "  name, start_time, end_time\n",
    "FROM assignments\n",
    "INNER JOIN staff on staff.id == assignments.staff_id\n",
    "INNER JOIN shifts on shifts.id == assignments.shift_id\n",
    "\"\"\"\n",
    "\n",
    "query_uncovered = \"\"\"\n",
    "SELECT\n",
    "  id, start_time, end_time, IfNull(assigned, 0) as assigned, staff_count as required, qualification_id\n",
    "FROM shifts\n",
    "LEFT JOIN (\n",
    "    SELECT\n",
    "    shift_id, count(staff_id) as assigned\n",
    "    FROM assignments\n",
    "    GROUP BY shift_id\n",
    ") on shifts.id == shift_id\n",
    "WHERE start_time BETWEEN '2023-04-01T00:00:00Z' and '2023-05-30T00:00:00Z'\n",
    "\"\"\"\n",
    "\n",
    "with engine.connect() as connection:\n",
    "    assignments = pd.read_feather(model_data_path / \"assignments.feather\")\n",
    "    assignments.to_sql(\"assignments\", connection, if_exists=\"replace\", index_label=\"id\")\n",
    "    assignments = pd.read_sql(query_assignments, connection, parse_dates=[\"start_time\", \"end_time\"])\n",
    "    uncovered = pd.read_sql(query_uncovered, connection, parse_dates=[\"start_time\", \"end_time\"]).query(\"assigned < required\")"
   ]
  },
  {
   "cell_type": "code",
   "execution_count": null,
   "id": "64d32aed-63e0-4e94-9576-387b558cd80b",
   "metadata": {},
   "outputs": [],
   "source": [
    "assignments"
   ]
  },
  {
   "cell_type": "code",
   "execution_count": null,
   "id": "207f7305-b350-4689-b19f-63e5d630799b",
   "metadata": {},
   "outputs": [],
   "source": [
    "uncovered"
   ]
  }
 ],
 "metadata": {
  "kernelspec": {
   "display_name": "gppd-etl",
   "language": "python",
   "name": "gppd-etl"
  },
  "language_info": {
   "codemirror_mode": {
    "name": "ipython",
    "version": 3
   },
   "file_extension": ".py",
   "mimetype": "text/x-python",
   "name": "python",
   "nbconvert_exporter": "python",
   "pygments_lexer": "ipython3",
   "version": "3.12.3"
  }
 },
 "nbformat": 4,
 "nbformat_minor": 5
}
