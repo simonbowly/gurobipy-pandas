{
 "cells": [
  {
   "cell_type": "code",
   "execution_count": 1,
   "id": "6b519a8c-e837-4e9d-9e2f-6d59491992b8",
   "metadata": {},
   "outputs": [],
   "source": [
    "import pathlib\n",
    "\n",
    "model_data_path = pathlib.Path(\"model_data\").resolve()\n",
    "db_path = pathlib.Path(\"../staffing.db\").resolve()"
   ]
  },
  {
   "cell_type": "code",
   "execution_count": 2,
   "id": "7e2ddfa4-b77e-43ad-8484-bf01849fece0",
   "metadata": {},
   "outputs": [],
   "source": [
    "import pandas as pd\n",
    "from sqlalchemy import create_engine, text\n",
    "\n",
    "engine = create_engine(f\"sqlite:///{db_path}\")"
   ]
  },
  {
   "cell_type": "code",
   "execution_count": 3,
   "id": "d0ec4e9c-1515-429d-8b82-558dff87d30c",
   "metadata": {},
   "outputs": [],
   "source": [
    "query = \"\"\"\n",
    "SELECT\n",
    "    shifts.id as shift_id,\n",
    "    staff_qualifications.staff_id as staff_id\n",
    "FROM shifts\n",
    "INNER JOIN staff_qualifications ON (\n",
    "    staff_qualifications.qualification_id = shifts.qualification_id\n",
    ")\n",
    "INNER JOIN availability ON (\n",
    "    availability.staff_id == staff_qualifications.staff_id\n",
    "    AND shifts.start_time >= availability.from_time\n",
    "    AND shifts.end_time <= availability.to_time\n",
    ")\n",
    "INNER JOIN staff on (\n",
    "    staff_qualifications.staff_id == staff.id\n",
    ")\n",
    "WHERE staff.active == 1\n",
    "\"\"\"\n",
    "\n",
    "with engine.connect() as connection:\n",
    "    feasible_assignments = pd.read_sql(text(query), connection)\n",
    "\n",
    "feasible_assignments.to_feather(model_data_path / \"feasible_assignments.feather\")"
   ]
  },
  {
   "cell_type": "code",
   "execution_count": 4,
   "id": "1203f2cd-fa44-4c27-bcb9-b03c3a3ce348",
   "metadata": {},
   "outputs": [
    {
     "data": {
      "text/html": [
       "<div>\n",
       "<style scoped>\n",
       "    .dataframe tbody tr th:only-of-type {\n",
       "        vertical-align: middle;\n",
       "    }\n",
       "\n",
       "    .dataframe tbody tr th {\n",
       "        vertical-align: top;\n",
       "    }\n",
       "\n",
       "    .dataframe thead th {\n",
       "        text-align: right;\n",
       "    }\n",
       "</style>\n",
       "<table border=\"1\" class=\"dataframe\">\n",
       "  <thead>\n",
       "    <tr style=\"text-align: right;\">\n",
       "      <th></th>\n",
       "      <th>shift_id</th>\n",
       "      <th>staff_id</th>\n",
       "    </tr>\n",
       "  </thead>\n",
       "  <tbody>\n",
       "    <tr>\n",
       "      <th>52</th>\n",
       "      <td>26</td>\n",
       "      <td>60128</td>\n",
       "    </tr>\n",
       "    <tr>\n",
       "      <th>49</th>\n",
       "      <td>23</td>\n",
       "      <td>60128</td>\n",
       "    </tr>\n",
       "    <tr>\n",
       "      <th>61</th>\n",
       "      <td>7</td>\n",
       "      <td>60128</td>\n",
       "    </tr>\n",
       "    <tr>\n",
       "      <th>6</th>\n",
       "      <td>20</td>\n",
       "      <td>60126</td>\n",
       "    </tr>\n",
       "  </tbody>\n",
       "</table>\n",
       "</div>"
      ],
      "text/plain": [
       "    shift_id  staff_id\n",
       "52        26     60128\n",
       "49        23     60128\n",
       "61         7     60128\n",
       "6         20     60126"
      ]
     },
     "execution_count": 4,
     "metadata": {},
     "output_type": "execute_result"
    }
   ],
   "source": [
    "feasible_assignments.sample(4)"
   ]
  }
 ],
 "metadata": {
  "kernelspec": {
   "display_name": "gppd-etl",
   "language": "python",
   "name": "gppd-etl"
  },
  "language_info": {
   "codemirror_mode": {
    "name": "ipython",
    "version": 3
   },
   "file_extension": ".py",
   "mimetype": "text/x-python",
   "name": "python",
   "nbconvert_exporter": "python",
   "pygments_lexer": "ipython3",
   "version": "3.12.3"
  }
 },
 "nbformat": 4,
 "nbformat_minor": 5
}
