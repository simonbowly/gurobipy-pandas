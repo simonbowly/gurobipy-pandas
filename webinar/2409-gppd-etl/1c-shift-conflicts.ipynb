{
 "cells": [
  {
   "cell_type": "code",
   "execution_count": 1,
   "id": "8fc372ab-2c3a-448f-9d13-2dd261f873a2",
   "metadata": {},
   "outputs": [],
   "source": [
    "import pathlib\n",
    "\n",
    "model_data_path = pathlib.Path(\"model_data\").resolve()\n",
    "db_path = pathlib.Path(\"../staffing.db\").resolve()"
   ]
  },
  {
   "cell_type": "code",
   "execution_count": 2,
   "id": "b01de209-3ed6-4b31-b6b0-54fe7f863d77",
   "metadata": {},
   "outputs": [],
   "source": [
    "import pandas as pd\n",
    "from sqlalchemy import create_engine, text\n",
    "\n",
    "engine = create_engine(f\"sqlite:///{db_path}\")"
   ]
  },
  {
   "cell_type": "code",
   "execution_count": 3,
   "id": "8f826b91-b902-4dc3-83ce-6c4d1565b9db",
   "metadata": {},
   "outputs": [],
   "source": [
    "query = \"\"\"\n",
    "SELECT\n",
    "    s1.id as shift1_id,\n",
    "    s2.id as shift2_id,\n",
    "    staff.id as staff_id\n",
    "FROM shifts s1\n",
    "INNER JOIN shifts s2\n",
    "INNER JOIN staff\n",
    "ON s2.start_time >= s1.start_time\n",
    "AND s2.start_time <= s1.end_time\n",
    "AND s1.id < s2.id\n",
    "\"\"\"\n",
    "\n",
    "with engine.connect() as connection:\n",
    "    shift_conflicts = pd.read_sql(text(query), connection)\n",
    "\n",
    "shift_conflicts.to_feather(model_data_path / \"shift_conflicts.feather\")"
   ]
  },
  {
   "cell_type": "code",
   "execution_count": 4,
   "id": "3e1dd52d-db4f-4821-9e5d-9b5cb0a5eb50",
   "metadata": {},
   "outputs": [
    {
     "data": {
      "text/html": [
       "<div>\n",
       "<style scoped>\n",
       "    .dataframe tbody tr th:only-of-type {\n",
       "        vertical-align: middle;\n",
       "    }\n",
       "\n",
       "    .dataframe tbody tr th {\n",
       "        vertical-align: top;\n",
       "    }\n",
       "\n",
       "    .dataframe thead th {\n",
       "        text-align: right;\n",
       "    }\n",
       "</style>\n",
       "<table border=\"1\" class=\"dataframe\">\n",
       "  <thead>\n",
       "    <tr style=\"text-align: right;\">\n",
       "      <th></th>\n",
       "      <th>shift1_id</th>\n",
       "      <th>shift2_id</th>\n",
       "      <th>staff_id</th>\n",
       "    </tr>\n",
       "  </thead>\n",
       "  <tbody>\n",
       "    <tr>\n",
       "      <th>14</th>\n",
       "      <td>2</td>\n",
       "      <td>16</td>\n",
       "      <td>60126</td>\n",
       "    </tr>\n",
       "    <tr>\n",
       "      <th>47</th>\n",
       "      <td>6</td>\n",
       "      <td>20</td>\n",
       "      <td>60131</td>\n",
       "    </tr>\n",
       "    <tr>\n",
       "      <th>45</th>\n",
       "      <td>6</td>\n",
       "      <td>20</td>\n",
       "      <td>60129</td>\n",
       "    </tr>\n",
       "    <tr>\n",
       "      <th>74</th>\n",
       "      <td>10</td>\n",
       "      <td>24</td>\n",
       "      <td>60130</td>\n",
       "    </tr>\n",
       "  </tbody>\n",
       "</table>\n",
       "</div>"
      ],
      "text/plain": [
       "    shift1_id  shift2_id  staff_id\n",
       "14          2         16     60126\n",
       "47          6         20     60131\n",
       "45          6         20     60129\n",
       "74         10         24     60130"
      ]
     },
     "execution_count": 4,
     "metadata": {},
     "output_type": "execute_result"
    }
   ],
   "source": [
    "shift_conflicts.sample(4)"
   ]
  }
 ],
 "metadata": {
  "kernelspec": {
   "display_name": "gppd-etl",
   "language": "python",
   "name": "gppd-etl"
  },
  "language_info": {
   "codemirror_mode": {
    "name": "ipython",
    "version": 3
   },
   "file_extension": ".py",
   "mimetype": "text/x-python",
   "name": "python",
   "nbconvert_exporter": "python",
   "pygments_lexer": "ipython3",
   "version": "3.12.3"
  }
 },
 "nbformat": 4,
 "nbformat_minor": 5
}
