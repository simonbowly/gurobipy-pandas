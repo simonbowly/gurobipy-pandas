{
 "cells": [
  {
   "cell_type": "code",
   "execution_count": 1,
   "id": "676c6152-4584-4695-835d-9661a045de80",
   "metadata": {},
   "outputs": [],
   "source": [
    "import pathlib\n",
    "\n",
    "model_data_path = pathlib.Path(\"model_data\").resolve()\n",
    "gurobi_params = {}"
   ]
  },
  {
   "cell_type": "code",
   "execution_count": 2,
   "id": "30a6c09e-63db-471d-bb01-b6585dd25937",
   "metadata": {},
   "outputs": [],
   "source": [
    "import gurobipy as gp\n",
    "from gurobipy import GRB\n",
    "import pandas as pd\n",
    "import gurobipy_pandas as gppd"
   ]
  },
  {
   "cell_type": "code",
   "execution_count": 3,
   "id": "abd26d61-ac91-4c33-86f1-445cbd5d77c3",
   "metadata": {},
   "outputs": [],
   "source": [
    "feasible_assignments = pd.read_feather(model_data_path / \"feasible_assignments.feather\")\n",
    "staff_required = pd.read_feather(model_data_path / \"staff_required.feather\")\n",
    "shift_conflicts = pd.read_feather(model_data_path / \"shift_conflicts.feather\")"
   ]
  },
  {
   "cell_type": "code",
   "execution_count": 4,
   "id": "6b64827e-9ec2-48e2-b835-4c7510fc4467",
   "metadata": {},
   "outputs": [
    {
     "name": "stdout",
     "output_type": "stream",
     "text": [
      "Gurobi Optimizer version 11.0.3 build v11.0.3rc0 (mac64[arm] - Darwin 23.6.0 23G93)\n",
      "\n",
      "CPU model: Apple M3 Pro\n",
      "Thread count: 11 physical cores, 11 logical processors, using up to 11 threads\n",
      "\n",
      "Optimize a model with 102 rows, 148 columns and 296 nonzeros\n",
      "Model fingerprint: 0x6298e7f8\n",
      "Variable types: 0 continuous, 148 integer (148 binary)\n",
      "Coefficient statistics:\n",
      "  Matrix range     [1e+00, 1e+00]\n",
      "  Objective range  [1e+00, 1e+00]\n",
      "  Bounds range     [1e+00, 1e+00]\n",
      "  RHS range        [1e+00, 5e+00]\n",
      "Found heuristic solution: objective 58.0000000\n",
      "Presolve removed 93 rows and 134 columns\n",
      "Presolve time: 0.00s\n",
      "Presolved: 9 rows, 14 columns, 28 nonzeros\n",
      "Variable types: 0 continuous, 14 integer (14 binary)\n",
      "\n",
      "Root relaxation: cutoff, 0 iterations, 0.00 seconds (0.00 work units)\n",
      "\n",
      "Explored 1 nodes (0 simplex iterations) in 0.01 seconds (0.00 work units)\n",
      "Thread count was 11 (of 11 available processors)\n",
      "\n",
      "Solution count 1: 58 \n",
      "\n",
      "Optimal solution found (tolerance 1.00e-04)\n",
      "Best objective 5.800000000000e+01, best bound 5.800000000000e+01, gap 0.0000%\n"
     ]
    }
   ],
   "source": [
    "with gp.Env(params=gurobi_params) as env, gp.Model(env=env) as model:\n",
    "\n",
    "    model.ModelSense = GRB.MAXIMIZE\n",
    "    assign = gppd.add_vars(\n",
    "        model,\n",
    "        feasible_assignments.set_index([\"staff_id\", \"shift_id\"]),\n",
    "        obj=1.0,\n",
    "        vtype=GRB.BINARY,\n",
    "        name=\"assign\",\n",
    "    )\n",
    "    \n",
    "    constr_requires = gppd.add_constrs(\n",
    "        model,\n",
    "        assign.groupby(\"shift_id\").sum(),\n",
    "        GRB.LESS_EQUAL,\n",
    "        staff_required[\"staff_count\"],\n",
    "        name=\"staffing\",\n",
    "    )\n",
    "\n",
    "    df_conflict_vars = (\n",
    "        shift_conflicts\n",
    "        .join(assign.rename(\"assign1\"), on=[\"staff_id\", \"shift1_id\"])\n",
    "        .join(assign.rename(\"assign2\"), on=[\"staff_id\", \"shift2_id\"])\n",
    "        .dropna()\n",
    "    )\n",
    "\n",
    "    constr_conflicts = df_conflict_vars.gppd.add_constrs(\n",
    "        model,\n",
    "        \"assign1 + assign2 <= 1\",\n",
    "        name=\"conflict\",\n",
    "    )\n",
    "\n",
    "    model.optimize()\n",
    "\n",
    "    assignments = assign.gppd.X\n",
    "    assignments = assignments[assignments == 1.0].reset_index().drop(columns=[\"assign\"])\n",
    "\n",
    "assignments.to_feather(model_data_path / \"assignments.feather\")"
   ]
  },
  {
   "cell_type": "code",
   "execution_count": 5,
   "id": "b9149846-3832-4c8b-8ee4-11a2731ad90c",
   "metadata": {},
   "outputs": [
    {
     "data": {
      "text/html": [
       "<div>\n",
       "<style scoped>\n",
       "    .dataframe tbody tr th:only-of-type {\n",
       "        vertical-align: middle;\n",
       "    }\n",
       "\n",
       "    .dataframe tbody tr th {\n",
       "        vertical-align: top;\n",
       "    }\n",
       "\n",
       "    .dataframe thead th {\n",
       "        text-align: right;\n",
       "    }\n",
       "</style>\n",
       "<table border=\"1\" class=\"dataframe\">\n",
       "  <thead>\n",
       "    <tr style=\"text-align: right;\">\n",
       "      <th></th>\n",
       "      <th>staff_id</th>\n",
       "      <th>shift_id</th>\n",
       "    </tr>\n",
       "  </thead>\n",
       "  <tbody>\n",
       "    <tr>\n",
       "      <th>47</th>\n",
       "      <td>60131</td>\n",
       "      <td>16</td>\n",
       "    </tr>\n",
       "    <tr>\n",
       "      <th>35</th>\n",
       "      <td>60129</td>\n",
       "      <td>9</td>\n",
       "    </tr>\n",
       "    <tr>\n",
       "      <th>12</th>\n",
       "      <td>60127</td>\n",
       "      <td>6</td>\n",
       "    </tr>\n",
       "    <tr>\n",
       "      <th>53</th>\n",
       "      <td>60132</td>\n",
       "      <td>8</td>\n",
       "    </tr>\n",
       "    <tr>\n",
       "      <th>1</th>\n",
       "      <td>60126</td>\n",
       "      <td>22</td>\n",
       "    </tr>\n",
       "  </tbody>\n",
       "</table>\n",
       "</div>"
      ],
      "text/plain": [
       "    staff_id  shift_id\n",
       "47     60131        16\n",
       "35     60129         9\n",
       "12     60127         6\n",
       "53     60132         8\n",
       "1      60126        22"
      ]
     },
     "execution_count": 5,
     "metadata": {},
     "output_type": "execute_result"
    }
   ],
   "source": [
    "assignments.sample(5)"
   ]
  }
 ],
 "metadata": {
  "kernelspec": {
   "display_name": "gppd-etl",
   "language": "python",
   "name": "gppd-etl"
  },
  "language_info": {
   "codemirror_mode": {
    "name": "ipython",
    "version": 3
   },
   "file_extension": ".py",
   "mimetype": "text/x-python",
   "name": "python",
   "nbconvert_exporter": "python",
   "pygments_lexer": "ipython3",
   "version": "3.12.3"
  }
 },
 "nbformat": 4,
 "nbformat_minor": 5
}
