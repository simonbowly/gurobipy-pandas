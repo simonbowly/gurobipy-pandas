{
 "cells": [
  {
   "cell_type": "code",
   "execution_count": null,
   "id": "8d3c67f6-63e0-40bb-9570-4e2b7fe43da1",
   "metadata": {},
   "outputs": [],
   "source": [
    "# If running in databricks, fetch Gurobi license ID from task parameters\n",
    "\n",
    "dbutils.widgets.text(\"CloudAccessID\", \"\")\n",
    "dbutils.widgets.text(\"CloudSecretKey\", \"\")\n",
    "dbutils.widgets.text(\"LicenseID\", \"0\")\n",
    "dbutils.widgets.text(\"CSAppName\", \"\")\n",
    "dbutils.widgets.text(\"CloudPool\", \"\")\n",
    "\n",
    "gurobi_params = {\n",
    "    \"CloudAccessID\": dbutils.widgets.get(\"CloudAccessID\"),\n",
    "    \"CloudSecretKey\": dbutils.widgets.get(\"CloudSecretKey\"),\n",
    "    \"LicenseID\": int(dbutils.widgets.get(\"LicenseID\")),\n",
    "    \"CSAppName\": dbutils.widgets.get(\"CSAppName\"),\n",
    "    \"CloudPool\": dbutils.widgets.get(\"CloudPool\"),\n",
    "}"
   ]
  },
  {
   "cell_type": "code",
   "execution_count": null,
   "id": "603958cf-1c58-4751-b2c1-dcd78454a7cb",
   "metadata": {},
   "outputs": [],
   "source": [
    "# If running locally, just use an empty dictionary to rely on the\n",
    "# free, size-limited license.\n",
    "\n",
    "# gurobi_params = {}"
   ]
  },
  {
   "cell_type": "code",
   "execution_count": null,
   "id": "676c6152-4584-4695-835d-9661a045de80",
   "metadata": {},
   "outputs": [],
   "source": [
    "import pathlib\n",
    "\n",
    "model_data_path = pathlib.Path(\"./model_data/\").resolve()"
   ]
  },
  {
   "cell_type": "code",
   "execution_count": null,
   "id": "30a6c09e-63db-471d-bb01-b6585dd25937",
   "metadata": {},
   "outputs": [],
   "source": [
    "import gurobipy as gp\n",
    "from gurobipy import GRB\n",
    "import pandas as pd\n",
    "import gurobipy_pandas as gppd"
   ]
  },
  {
   "cell_type": "code",
   "execution_count": null,
   "id": "abd26d61-ac91-4c33-86f1-445cbd5d77c3",
   "metadata": {},
   "outputs": [],
   "source": [
    "feasible_assignments = pd.read_feather(model_data_path / \"feasible_assignments.feather\")\n",
    "staff_required = pd.read_feather(model_data_path / \"staff_required.feather\")\n",
    "shift_conflicts = pd.read_feather(model_data_path / \"shift_conflicts.feather\")"
   ]
  },
  {
   "cell_type": "code",
   "execution_count": null,
   "id": "6b64827e-9ec2-48e2-b835-4c7510fc4467",
   "metadata": {},
   "outputs": [],
   "source": [
    "with gp.Env(params=gurobi_params) as env, gp.Model(env=env) as model:\n",
    "\n",
    "    model.ModelSense = GRB.MAXIMIZE\n",
    "    assign = gppd.add_vars(\n",
    "        model,\n",
    "        feasible_assignments.set_index([\"staff_id\", \"shift_id\"]),\n",
    "        obj=1.0,\n",
    "        vtype=GRB.BINARY,\n",
    "        name=\"assign\",\n",
    "    )\n",
    "    \n",
    "    constr_requires = gppd.add_constrs(\n",
    "        model,\n",
    "        assign.groupby(\"shift_id\").sum(),\n",
    "        GRB.LESS_EQUAL,\n",
    "        staff_required[\"staff_count\"],\n",
    "        name=\"staffing\",\n",
    "    )\n",
    "\n",
    "    df_conflict_vars = (\n",
    "        shift_conflicts\n",
    "        .join(assign.rename(\"assign1\"), on=[\"staff_id\", \"shift1_id\"])\n",
    "        .join(assign.rename(\"assign2\"), on=[\"staff_id\", \"shift2_id\"])\n",
    "        .dropna()\n",
    "    )\n",
    "\n",
    "    constr_conflicts = df_conflict_vars.gppd.add_constrs(\n",
    "        model,\n",
    "        \"assign1 + assign2 <= 1\",\n",
    "        name=\"conflict\",\n",
    "    )\n",
    "\n",
    "    model.optimize()\n",
    "\n",
    "    assignments = assign.gppd.X\n",
    "    assignments = assignments[assignments == 1.0].reset_index().drop(columns=[\"assign\"])\n",
    "\n",
    "assignments.to_feather(model_data_path / \"assignments.feather\")"
   ]
  },
  {
   "cell_type": "code",
   "execution_count": null,
   "id": "b9149846-3832-4c8b-8ee4-11a2731ad90c",
   "metadata": {},
   "outputs": [],
   "source": [
    "assignments.sample(5)"
   ]
  }
 ],
 "metadata": {
  "kernelspec": {
   "display_name": "gppd-etl",
   "language": "python",
   "name": "gppd-etl"
  },
  "language_info": {
   "codemirror_mode": {
    "name": "ipython",
    "version": 3
   },
   "file_extension": ".py",
   "mimetype": "text/x-python",
   "name": "python",
   "nbconvert_exporter": "python",
   "pygments_lexer": "ipython3",
   "version": "3.12.3"
  }
 },
 "nbformat": 4,
 "nbformat_minor": 5
}
